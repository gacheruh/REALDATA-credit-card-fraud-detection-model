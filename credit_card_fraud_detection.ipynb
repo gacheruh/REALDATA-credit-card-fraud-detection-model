{
 "cells": [
  {
   "cell_type": "markdown",
   "metadata": {},
   "source": [
    "# Credit Card Fraud Detection Analysis\n",
    "\n",
    "## Overview\n",
    "\n",
    "This notebook implements a machine learning approach to detect credit card fraud using a dataset of anonymized credit card transactions. The goal is to build an effective model that can identify fraudulent transactions while minimizing false positives.\n",
    "\n",
    "### Dataset Information\n",
    "- **Source**: European cardholders (September 2013)\n",
    "- **Total Transactions**: 284,807\n",
    "- **Features**: 30 (28 PCA-transformed + Time + Amount)\n",
    "- **Target**: Binary classification (0 = Normal, 1 = Fraud)\n",
    "- **Class Distribution**: Highly imbalanced (0.172% fraud cases)\n",
    "\n",
    "### Methodology\n",
    "1. **Data Exploration**: Understanding data distribution and patterns\n",
    "2. **Data Preprocessing**: Feature scaling and engineering\n",
    "3. **Class Imbalance Handling**: SMOTE oversampling technique (creates new, synthetic examples of fraud by mixing together the real ones to improve model performance)\n",
    "4. **Model Training**: Multiple algorithms comparison\n",
    "5. **Model Evaluation**: Performance metrics and visualization\n",
    "6. **Results Analysis**: Business insights and recommendations\n",
    "\n",
    "---\n"
   ]
  },
  {
   "cell_type": "markdown",
   "metadata": {},
   "source": [
    "## 1. Environment Setup\n",
    "\n",
    "Import necessary libraries for data analysis, visualization, and machine learning.\n"
   ]
  },
  {
   "cell_type": "code",
   "execution_count": 14,
   "metadata": {},
   "outputs": [],
   "source": [
    "import pandas as pd\n",
    "import numpy as np\n",
    "import warnings\n",
    "warnings.filterwarnings('ignore')\n",
    "\n",
    "import matplotlib.pyplot as plt\n",
    "import seaborn as sns\n",
    "plt.style.use('default')\n",
    "plt.rcParams['figure.figsize'] = (10, 6)\n",
    "\n",
    "# Machine Learning\n",
    "from sklearn.model_selection import train_test_split \n",
    "from sklearn.preprocessing import StandardScaler # for feature scaling\n",
    "from sklearn.ensemble import RandomForestClassifier #learning model using multiple decision trees\n",
    "from sklearn.linear_model import LogisticRegression #for binary classification problems\n",
    "from sklearn.metrics import classification_report, confusion_matrix, roc_auc_score, roc_curve\n",
    "\n",
    "# Handle imbalanced data\n",
    "from imblearn.over_sampling import SMOTE\n"
   ]
  },
  {
   "cell_type": "markdown",
   "metadata": {},
   "source": [
    "## 2. Data Loading and Exploration\n",
    "\n",
    "Load the dataset and examine its structure, missing values, and class distribution.\n"
   ]
  },
  {
   "cell_type": "code",
   "execution_count": 15,
   "metadata": {},
   "outputs": [
    {
     "name": "stdout",
     "output_type": "stream",
     "text": [
      "Dataset Shape: (284807, 31)\n",
      "\n",
      "Missing Values: 0\n"
     ]
    },
    {
     "data": {
      "text/html": [
       "<div>\n",
       "<style scoped>\n",
       "    .dataframe tbody tr th:only-of-type {\n",
       "        vertical-align: middle;\n",
       "    }\n",
       "\n",
       "    .dataframe tbody tr th {\n",
       "        vertical-align: top;\n",
       "    }\n",
       "\n",
       "    .dataframe thead th {\n",
       "        text-align: right;\n",
       "    }\n",
       "</style>\n",
       "<table border=\"1\" class=\"dataframe\">\n",
       "  <thead>\n",
       "    <tr style=\"text-align: right;\">\n",
       "      <th></th>\n",
       "      <th>Time</th>\n",
       "      <th>V1</th>\n",
       "      <th>V2</th>\n",
       "      <th>V3</th>\n",
       "      <th>V4</th>\n",
       "      <th>V5</th>\n",
       "      <th>V6</th>\n",
       "      <th>V7</th>\n",
       "      <th>V8</th>\n",
       "      <th>V9</th>\n",
       "      <th>...</th>\n",
       "      <th>V21</th>\n",
       "      <th>V22</th>\n",
       "      <th>V23</th>\n",
       "      <th>V24</th>\n",
       "      <th>V25</th>\n",
       "      <th>V26</th>\n",
       "      <th>V27</th>\n",
       "      <th>V28</th>\n",
       "      <th>Amount</th>\n",
       "      <th>Class</th>\n",
       "    </tr>\n",
       "  </thead>\n",
       "  <tbody>\n",
       "    <tr>\n",
       "      <th>0</th>\n",
       "      <td>0.0</td>\n",
       "      <td>-1.359807</td>\n",
       "      <td>-0.072781</td>\n",
       "      <td>2.536347</td>\n",
       "      <td>1.378155</td>\n",
       "      <td>-0.338321</td>\n",
       "      <td>0.462388</td>\n",
       "      <td>0.239599</td>\n",
       "      <td>0.098698</td>\n",
       "      <td>0.363787</td>\n",
       "      <td>...</td>\n",
       "      <td>-0.018307</td>\n",
       "      <td>0.277838</td>\n",
       "      <td>-0.110474</td>\n",
       "      <td>0.066928</td>\n",
       "      <td>0.128539</td>\n",
       "      <td>-0.189115</td>\n",
       "      <td>0.133558</td>\n",
       "      <td>-0.021053</td>\n",
       "      <td>149.62</td>\n",
       "      <td>0</td>\n",
       "    </tr>\n",
       "    <tr>\n",
       "      <th>1</th>\n",
       "      <td>0.0</td>\n",
       "      <td>1.191857</td>\n",
       "      <td>0.266151</td>\n",
       "      <td>0.166480</td>\n",
       "      <td>0.448154</td>\n",
       "      <td>0.060018</td>\n",
       "      <td>-0.082361</td>\n",
       "      <td>-0.078803</td>\n",
       "      <td>0.085102</td>\n",
       "      <td>-0.255425</td>\n",
       "      <td>...</td>\n",
       "      <td>-0.225775</td>\n",
       "      <td>-0.638672</td>\n",
       "      <td>0.101288</td>\n",
       "      <td>-0.339846</td>\n",
       "      <td>0.167170</td>\n",
       "      <td>0.125895</td>\n",
       "      <td>-0.008983</td>\n",
       "      <td>0.014724</td>\n",
       "      <td>2.69</td>\n",
       "      <td>0</td>\n",
       "    </tr>\n",
       "    <tr>\n",
       "      <th>2</th>\n",
       "      <td>1.0</td>\n",
       "      <td>-1.358354</td>\n",
       "      <td>-1.340163</td>\n",
       "      <td>1.773209</td>\n",
       "      <td>0.379780</td>\n",
       "      <td>-0.503198</td>\n",
       "      <td>1.800499</td>\n",
       "      <td>0.791461</td>\n",
       "      <td>0.247676</td>\n",
       "      <td>-1.514654</td>\n",
       "      <td>...</td>\n",
       "      <td>0.247998</td>\n",
       "      <td>0.771679</td>\n",
       "      <td>0.909412</td>\n",
       "      <td>-0.689281</td>\n",
       "      <td>-0.327642</td>\n",
       "      <td>-0.139097</td>\n",
       "      <td>-0.055353</td>\n",
       "      <td>-0.059752</td>\n",
       "      <td>378.66</td>\n",
       "      <td>0</td>\n",
       "    </tr>\n",
       "    <tr>\n",
       "      <th>3</th>\n",
       "      <td>1.0</td>\n",
       "      <td>-0.966272</td>\n",
       "      <td>-0.185226</td>\n",
       "      <td>1.792993</td>\n",
       "      <td>-0.863291</td>\n",
       "      <td>-0.010309</td>\n",
       "      <td>1.247203</td>\n",
       "      <td>0.237609</td>\n",
       "      <td>0.377436</td>\n",
       "      <td>-1.387024</td>\n",
       "      <td>...</td>\n",
       "      <td>-0.108300</td>\n",
       "      <td>0.005274</td>\n",
       "      <td>-0.190321</td>\n",
       "      <td>-1.175575</td>\n",
       "      <td>0.647376</td>\n",
       "      <td>-0.221929</td>\n",
       "      <td>0.062723</td>\n",
       "      <td>0.061458</td>\n",
       "      <td>123.50</td>\n",
       "      <td>0</td>\n",
       "    </tr>\n",
       "    <tr>\n",
       "      <th>4</th>\n",
       "      <td>2.0</td>\n",
       "      <td>-1.158233</td>\n",
       "      <td>0.877737</td>\n",
       "      <td>1.548718</td>\n",
       "      <td>0.403034</td>\n",
       "      <td>-0.407193</td>\n",
       "      <td>0.095921</td>\n",
       "      <td>0.592941</td>\n",
       "      <td>-0.270533</td>\n",
       "      <td>0.817739</td>\n",
       "      <td>...</td>\n",
       "      <td>-0.009431</td>\n",
       "      <td>0.798278</td>\n",
       "      <td>-0.137458</td>\n",
       "      <td>0.141267</td>\n",
       "      <td>-0.206010</td>\n",
       "      <td>0.502292</td>\n",
       "      <td>0.219422</td>\n",
       "      <td>0.215153</td>\n",
       "      <td>69.99</td>\n",
       "      <td>0</td>\n",
       "    </tr>\n",
       "  </tbody>\n",
       "</table>\n",
       "<p>5 rows × 31 columns</p>\n",
       "</div>"
      ],
      "text/plain": [
       "   Time        V1        V2        V3        V4        V5        V6        V7  \\\n",
       "0   0.0 -1.359807 -0.072781  2.536347  1.378155 -0.338321  0.462388  0.239599   \n",
       "1   0.0  1.191857  0.266151  0.166480  0.448154  0.060018 -0.082361 -0.078803   \n",
       "2   1.0 -1.358354 -1.340163  1.773209  0.379780 -0.503198  1.800499  0.791461   \n",
       "3   1.0 -0.966272 -0.185226  1.792993 -0.863291 -0.010309  1.247203  0.237609   \n",
       "4   2.0 -1.158233  0.877737  1.548718  0.403034 -0.407193  0.095921  0.592941   \n",
       "\n",
       "         V8        V9  ...       V21       V22       V23       V24       V25  \\\n",
       "0  0.098698  0.363787  ... -0.018307  0.277838 -0.110474  0.066928  0.128539   \n",
       "1  0.085102 -0.255425  ... -0.225775 -0.638672  0.101288 -0.339846  0.167170   \n",
       "2  0.247676 -1.514654  ...  0.247998  0.771679  0.909412 -0.689281 -0.327642   \n",
       "3  0.377436 -1.387024  ... -0.108300  0.005274 -0.190321 -1.175575  0.647376   \n",
       "4 -0.270533  0.817739  ... -0.009431  0.798278 -0.137458  0.141267 -0.206010   \n",
       "\n",
       "        V26       V27       V28  Amount  Class  \n",
       "0 -0.189115  0.133558 -0.021053  149.62      0  \n",
       "1  0.125895 -0.008983  0.014724    2.69      0  \n",
       "2 -0.139097 -0.055353 -0.059752  378.66      0  \n",
       "3 -0.221929  0.062723  0.061458  123.50      0  \n",
       "4  0.502292  0.219422  0.215153   69.99      0  \n",
       "\n",
       "[5 rows x 31 columns]"
      ]
     },
     "execution_count": 15,
     "metadata": {},
     "output_type": "execute_result"
    }
   ],
   "source": [
    "# Load the dataset\n",
    "df = pd.read_csv('creditcard.csv')\n",
    "\n",
    "# Basic dataset information\n",
    "print(\"Dataset Shape:\", df.shape)\n",
    "print(\"\\nMissing Values:\", df.isnull().sum().sum())\n",
    "\n",
    "# Display first few rows\n",
    "df.head()\n"
   ]
  },
  {
   "cell_type": "code",
   "execution_count": 16,
   "metadata": {},
   "outputs": [
    {
     "name": "stdout",
     "output_type": "stream",
     "text": [
      "Class Distribution:\n",
      "Normal transactions (0): 284,315 (99.827%)\n",
      "Fraud transactions (1): 492 (0.173%)\n",
      "Imbalance ratio: 1:577\n"
     ]
    },
    {
     "data": {
      "image/png": "[encoded data removed]",
      "text/plain": [
       "<Figure size 1200x500 with 2 Axes>"
      ]
     },
     "metadata": {},
     "output_type": "display_data"
    }
   ],
   "source": [
    "# Analyze class distribution\n",
    "class_counts = df['Class'].value_counts()\n",
    "fraud_percentage = (class_counts[1] / len(df)) * 100\n",
    "\n",
    "print(\"Class Distribution:\")\n",
    "print(f\"Normal transactions (0): {class_counts[0]:,} ({100-fraud_percentage:.3f}%)\")\n",
    "print(f\"Fraud transactions (1): {class_counts[1]:,} ({fraud_percentage:.3f}%)\")\n",
    "print(f\"Imbalance ratio: 1:{class_counts[0]//class_counts[1]}\")\n",
    "\n",
    "# Visualizing class distribution\n",
    "fig, (ax1, ax2) = plt.subplots(1, 2, figsize=(12, 5))\n",
    "\n",
    "# Bar plot\n",
    "ax1.bar(['Normal', 'Fraud'], class_counts.values, color=['skyblue', 'salmon'])\n",
    "ax1.set_title('Transaction Count by Class')\n",
    "ax1.set_ylabel('Number of Transactions')\n",
    "for i, v in enumerate(class_counts.values):\n",
    "    ax1.text(i, v + 1000, f'{v:,}', ha='center', fontweight='bold')\n",
    "\n",
    "# Pie chart\n",
    "ax2.pie(class_counts.values, labels=['Normal', 'Fraud'], autopct='%1.3f%%', \n",
    "        colors=['skyblue', 'salmon'], startangle=90)\n",
    "ax2.set_title('Class Distribution Percentage')\n",
    "\n",
    "plt.tight_layout()\n",
    "plt.show()\n"
   ]
  },
  {
   "cell_type": "code",
   "execution_count": 19,
   "metadata": {},
   "outputs": [
    {
     "name": "stdout",
     "output_type": "stream",
     "text": [
      "Transaction Amount Analysis:\n",
      "\n",
      "Overall Amount Statistics:\n",
      "count    284807.000000\n",
      "mean         88.349619\n",
      "std         250.120109\n",
      "min           0.000000\n",
      "25%           5.600000\n",
      "50%          22.000000\n",
      "75%          77.165000\n",
      "max       25691.160000\n",
      "Name: Amount, dtype: float64\n",
      "\n",
      "Amount Statistics by Class:\n",
      "        count        mean  median         std  min       max\n",
      "Class                                                       \n",
      "0      284315   88.291022   22.00  250.105092  0.0  25691.16\n",
      "1         492  122.211321    9.25  256.683288  0.0   2125.87\n"
     ]
    },
    {
     "data": {
      "image/png": "[encoded data removed]",
      "text/plain": [
       "<Figure size 1400x600 with 2 Axes>"
      ]
     },
     "metadata": {},
     "output_type": "display_data"
    }
   ],
   "source": [
    "# Analyze transaction amounts\n",
    "print(\"Transaction Amount Analysis:\")\n",
    "print(\"\\nOverall Amount Statistics:\")\n",
    "print(df['Amount'].describe())\n",
    "\n",
    "print(\"\\nAmount Statistics by Class:\")\n",
    "amount_by_class = df.groupby('Class')['Amount'].agg(['count', 'mean', 'median', 'std', 'min', 'max'])\n",
    "print(amount_by_class)\n",
    "\n",
    "# Visualize amount distribution\n",
    "fig, (ax1, ax2) = plt.subplots(1, 2, figsize=(14, 6))\n",
    "\n",
    "# Amount distribution by class\n",
    "normal_amounts = df[df['Class'] == 0]['Amount']\n",
    "fraud_amounts = df[df['Class'] == 1]['Amount']\n",
    "\n",
    "ax1.hist(normal_amounts, bins=50, alpha=0.7, label='Normal', color='skyblue', density=True)\n",
    "ax1.hist(fraud_amounts, bins=50, alpha=0.7, label='Fraud', color='salmon', density=True)\n",
    "ax1.set_title('Transaction Amount Distribution by Class')\n",
    "ax1.set_xlabel('Amount')\n",
    "ax1.set_ylabel('Density')\n",
    "ax1.legend()\n",
    "ax1.set_xlim(0, 1000)  # Focus on smaller amounts for better visibility\n",
    "\n",
    "# Box plot comparison\n",
    "df.boxplot(column='Amount', by='Class', ax=ax2)\n",
    "ax2.set_title('Amount Distribution by Class (Box Plot)')\n",
    "ax2.set_xlabel('Class')\n",
    "ax2.set_ylabel('Amount')\n",
    "plt.suptitle('')  # Remove automatic title\n",
    "\n",
    "plt.tight_layout()\n",
    "plt.show()\n"
   ]
  },
  {
   "cell_type": "markdown",
   "metadata": {},
   "source": [
    "These graphs compare the transaction amounts for legitimate purchases (Class 0) and fraudulent ones (Class 1).\n",
    "\n",
    "**Distribution Plot:**\n",
    "\n",
    "The distribution for **legitimate transactions** is heavily right-skewed, meaning most transactions are very small (clustered near $0), with a long tail of less frequent, larger transactions.\n",
    "\n",
    "**Fraudulent activity** is proportionally more common in the low-to-medium price range (roughly 50 USD  to $500) compared to legitimate activity.  \n",
    "\n",
    "\n",
    "\n",
    "**Box Plot:**\n",
    "\n",
    "This highlights that the typical fraudulent transaction is actually for a smaller amount than the typical legitimate one. However, the legitimate transactions have a much wider range, including many extremely high-value purchases that are not common with fraud."
   ]
  },
  {
   "cell_type": "markdown",
   "metadata": {},
   "source": [
    "## 3. Data Preprocessing\n",
    "\n",
    "Prepare the data for machine learning by scaling features and handling the class imbalance.\n"
   ]
  },
  {
   "cell_type": "code",
   "execution_count": 20,
   "metadata": {},
   "outputs": [
    {
     "name": "stdout",
     "output_type": "stream",
     "text": [
      "Feature matrix shape: (284807, 30)\n",
      "Target vector shape: (284807,)\n",
      "\n",
      "Data Split:\n",
      "Training set: 227,845 samples\n",
      "Test set: 56,962 samples\n",
      "Training fraud rate: 0.0017\n",
      "Test fraud rate: 0.0017\n"
     ]
    }
   ],
   "source": [
    "# Prepare features and target\n",
    "X = df.drop('Class', axis=1) #transaction details\n",
    "y = df['Class'] # target class\n",
    "\n",
    "print(\"Feature matrix shape:\", X.shape)\n",
    "print(\"Target vector shape:\", y.shape)\n",
    "\n",
    "# Split the data into training and testing sets\n",
    "X_train, X_test, y_train, y_test = train_test_split(\n",
    "    X, y, test_size=0.2, random_state=42, stratify=y\n",
    ")\n",
    "\n",
    "print(f\"\\nData Split:\")\n",
    "print(f\"Training set: {X_train.shape[0]:,} samples\")\n",
    "print(f\"Test set: {X_test.shape[0]:,} samples\")\n",
    "print(f\"Training fraud rate: {y_train.mean():.4f}\")\n",
    "print(f\"Test fraud rate: {y_test.mean():.4f}\")\n"
   ]
  },
  {
   "cell_type": "markdown",
   "metadata": {},
   "source": [
    "---\n",
    "The output shows the extreme **class imbalance**. Only **0.17%** of transactions are fraudulent. This is the biggest challenge in fraud detection.\n",
    "\n",
    "A naive model could simply predict \"not fraud\" for every single transaction and still be **99.83% accurate**, but it would be completely useless. The **stratify=y** parameter is vital here. It ensures that both the training and test sets have exactly the same tiny proportion of fraud cases, so the model learns to recognize them and we can fairly test its ability to find them.\n",
    "\n",
    "---"
   ]
  },
  {
   "cell_type": "markdown",
   "metadata": {},
   "source": [
    "The **StandardScaler** transforms the data so that each feature has a mean of 0 and a standard deviation of 1. This puts all the features on a common, standard scale."
   ]
  },
  {
   "cell_type": "code",
   "execution_count": 25,
   "metadata": {},
   "outputs": [
    {
     "name": "stdout",
     "output_type": "stream",
     "text": [
      "Original features range: -113.74 to 172792.00\n",
      "Scaled features range: -82.45 to 103.53\n"
     ]
    }
   ],
   "source": [
    "# Feature scaling\n",
    "# Scale the features to ensure all features contribute equally to the model\n",
    "scaler = StandardScaler()\n",
    "X_train_scaled = scaler.fit_transform(X_train)\n",
    "X_test_scaled = scaler.transform(X_test)\n",
    "\n",
    "print(f\"Original features range: {X_train.min().min():.2f} to {X_train.max().max():.2f}\")\n",
    "print(f\"Scaled features range: {X_train_scaled.min():.2f} to {X_train_scaled.max():.2f}\")\n"
   ]
  },
  {
   "cell_type": "markdown",
   "metadata": {},
   "source": [
    "---\n",
    "To address the major class imbalance problem in the dataset we use a technique called **SMOTE (Synthetic Minority Over-sampling Technique).**\n",
    "\n",
    "* **The Problem:** The training data has a huge imbalance: **227,451** normal transactions vs. only **394** fraudulent ones. A model trained on this would be very bad at detecting fraud.\n",
    "\n",
    "+ **The Solution (SMOTE):** Instead of just copying the few fraud cases, SMOTE intelligently creates **new, synthetic fraudulent transactions.** It does this by looking at the existing fraud examples and generating new ones that are similar to them.\n",
    "\n",
    "+ **The Result:** After applying SMOTE, the dataset is perfectly balanced. Both classes now have **227,451** examples each. The number of normal transactions remains the same, while the number of synthetic fraud cases is increased to match."
   ]
  },
  {
   "cell_type": "code",
   "execution_count": 23,
   "metadata": {},
   "outputs": [
    {
     "name": "stdout",
     "output_type": "stream",
     "text": [
      "Class distribution before SMOTE:\n",
      "Normal: 227,451\n",
      "Fraud: 394\n",
      "\n",
      "Class distribution after SMOTE:\n",
      "Normal: 227,451\n",
      "Fraud: 227,451\n",
      "\n",
      "Dataset size increase: 454,902 (from 227,845)\n"
     ]
    }
   ],
   "source": [
    "# Handle class imbalance using SMOTE\n",
    "smote = SMOTE(random_state=42)\n",
    "X_train_balanced, y_train_balanced = smote.fit_resample(X_train_scaled, y_train)\n",
    "\n",
    "print(\"Class distribution before SMOTE:\")\n",
    "print(f\"Normal: {(y_train == 0).sum():,}\")\n",
    "print(f\"Fraud: {(y_train == 1).sum():,}\")\n",
    "\n",
    "print(\"\\nClass distribution after SMOTE:\")\n",
    "print(f\"Normal: {(y_train_balanced == 0).sum():,}\")\n",
    "print(f\"Fraud: {(y_train_balanced == 1).sum():,}\")\n",
    "\n",
    "print(f\"\\nDataset size increase: {len(X_train_balanced):,} (from {len(X_train):,})\")\n"
   ]
  },
  {
   "cell_type": "markdown",
   "metadata": {},
   "source": [
    "## 4. Model Training and Evaluation\n",
    "\n",
    "Train multiple machine learning models(e.g Logistic Regression, Random Forest) and evaluate their performance on fraud detection.\n"
   ]
  },
  {
   "cell_type": "code",
   "execution_count": 21,
   "metadata": {},
   "outputs": [
    {
     "name": "stdout",
     "output_type": "stream",
     "text": [
      "Training machine learning models...\n",
      "Models trained successfully\n",
      "\n",
      "Model Performance Comparison:\n",
      "                     Accuracy  Precision  Recall  F1-Score  ROC-AUC\n",
      "Logistic Regression    0.9741     0.0578  0.9184    0.1088   0.9708\n",
      "Random Forest          0.9995     0.8710  0.8265    0.8482   0.9684\n"
     ]
    }
   ],
   "source": [
    "print(\"Training machine learning models...\")\n",
    "\n",
    "# 1. Logistic Regression (simpler, faster model)\n",
    "lr_model = LogisticRegression(random_state=42, max_iter=1000)\n",
    "lr_model.fit(X_train_balanced, y_train_balanced)\n",
    "\n",
    "# 2. Random Forest (more complex, powerful model)\n",
    "rf_model = RandomForestClassifier(n_estimators=100, random_state=42, n_jobs=-1)\n",
    "rf_model.fit(X_train_balanced, y_train_balanced)\n",
    "\n",
    "print(\"Models trained successfully\")\n",
    "\n",
    "# Make predictions\n",
    "models = {\n",
    "    'Logistic Regression': lr_model,\n",
    "    'Random Forest': rf_model\n",
    "}\n",
    "\n",
    "results = {}\n",
    "\n",
    "for name, model in models.items():\n",
    "    # Predictions\n",
    "    y_pred = model.predict(X_test_scaled)\n",
    "    y_pred_proba = model.predict_proba(X_test_scaled)[:, 1]\n",
    "    \n",
    "    # Calculate metrics\n",
    "    from sklearn.metrics import accuracy_score, precision_score, recall_score, f1_score\n",
    "    \n",
    "    results[name] = {\n",
    "        'Accuracy': accuracy_score(y_test, y_pred),\n",
    "        'Precision': precision_score(y_test, y_pred),\n",
    "        'Recall': recall_score(y_test, y_pred),\n",
    "        'F1-Score': f1_score(y_test, y_pred),\n",
    "        'ROC-AUC': roc_auc_score(y_test, y_pred_proba)\n",
    "    }\n",
    "\n",
    "# Display results\n",
    "results_df = pd.DataFrame(results).T\n",
    "print(\"\\nModel Performance Comparison:\")\n",
    "print(results_df.round(4))\n"
   ]
  },
  {
   "cell_type": "markdown",
   "metadata": {},
   "source": [
    "---\n",
    "The **Logistic Regression** has a high recall i.e succesfully identifies **91.8%** of all fraudulent transactions but a very low precision (**0.058**) i.e for every real fraud it finds, it also falsely flags about 16 legitimate transactions as fraud which would lead to many declined transactions and unhappy customers. It's good at finding fraud but unreliable due to a high false alarm rate\n",
    "\n",
    "The **Random Forest** model has excellent accuracy and precision (**0.9995 & 0.871**) makes it the better model as it has far fewer false alarms.\n",
    "\n",
    "---"
   ]
  },
  {
   "cell_type": "code",
   "execution_count": 9,
   "metadata": {},
   "outputs": [
    {
     "name": "stdout",
     "output_type": "stream",
     "text": [
      "Best performing model: Random Forest\n",
      "F1-Score: 0.8482\n",
      "\n",
      "Detailed Classification Report for Random Forest:\n",
      "              precision    recall  f1-score   support\n",
      "\n",
      "      Normal       1.00      1.00      1.00     56864\n",
      "       Fraud       0.87      0.83      0.85        98\n",
      "\n",
      "    accuracy                           1.00     56962\n",
      "   macro avg       0.94      0.91      0.92     56962\n",
      "weighted avg       1.00      1.00      1.00     56962\n",
      "\n"
     ]
    }
   ],
   "source": [
    "# Detailed evaluation for the best model\n",
    "best_model_name = results_df['F1-Score'].idxmax()\n",
    "best_model = models[best_model_name]\n",
    "\n",
    "print(f\"Best performing model: {best_model_name}\")\n",
    "print(f\"F1-Score: {results_df.loc[best_model_name, 'F1-Score']:.4f}\")\n",
    "\n",
    "# Generate predictions for detailed analysis\n",
    "y_pred_best = best_model.predict(X_test_scaled)\n",
    "y_pred_proba_best = best_model.predict_proba(X_test_scaled)[:, 1]\n",
    "\n",
    "# Classification report\n",
    "print(f\"\\nDetailed Classification Report for {best_model_name}:\")\n",
    "print(classification_report(y_test, y_pred_best, target_names=['Normal', 'Fraud']))\n"
   ]
  },
  {
   "cell_type": "markdown",
   "metadata": {},
   "source": [
    "\n",
    "* **Performance on Normal Transactions (Class 0):**\n",
    "\n",
    "    * **Perfect performance:** `1.00` precision, recall, and **F1-score**(how well a model performs by balancing two important factors: precision and recall).\n",
    "\n",
    "    * This means it almost never incorrectly flags a legitimate transaction as fraud. This is crucial for customer satisfaction.\n",
    "\n",
    "* **Performance on Fraudulent Transactions (Class 1):**\n",
    "\n",
    "    * **High Precision (0.87):** When it predicts \"fraud,\" it is correct **87%** of the time. This means few false alarms.\n",
    "\n",
    "    * **High Recall (0.83):** It successfully identifies **83%** of all actual fraud cases in the test set.\n",
    "\n",
    "    * **Strong F1-Score (0.85):** This confirms a good balance between precision and recall for the fraud class.\n",
    " \n",
    "---"
   ]
  },
  {
   "cell_type": "markdown",
   "metadata": {},
   "source": [
    "## 5. Conclusions and Recommendations\n",
    "\n",
    "### Key Findings\n",
    "\n",
    "**Model Performance:**\n",
    "- Both models showed strong performance on the fraud detection task\n",
    "- SMOTE effectively addressed the class imbalance problem\n",
    "\n",
    "**Dataset Insights:**\n",
    "- Fraud transactions represent only 0.172% of all transactions\n",
    "- Fraudulent transactions have different amount patterns compared to normal transactions\n",
    "- The anonymized features (V1-V28) contain sufficient information for fraud detection\n",
    "\n",
    "### Business Recommendations\n",
    "\n",
    "**Implementation Strategy:**\n",
    "1. **Deploy the best-performing model** in a real-time transaction monitoring system\n",
    "2. **Set appropriate thresholds** balancing fraud detection rate and false alarm rate\n",
    "3. **Implement human review** for transactions flagged as potential fraud\n",
    "4. **Regular model retraining** to adapt to evolving fraud patterns\n",
    "\n",
    "**Operational Considerations:**\n",
    "1. **Cost-Benefit Analysis**: Consider the cost of false positives vs. missed fraud\n",
    "2. **Real-time Processing**: Ensure the model can process transactions within acceptable time limits\n",
    "3. **Monitoring and Alerting**: Set up systems to track model performance over time\n",
    "4. **Fraud Investigation Workflow**: Establish procedures for reviewing flagged transactions\n",
    "\n",
    "**Risk Management:**\n",
    "1. **Conservative Thresholds**: Start with higher sensitivity to catch more fraud cases\n",
    "2. **Gradual Optimization**: Adjust thresholds based on operational feedback\n",
    "3. **Backup Systems**: Maintain alternative fraud detection methods\n",
    "4. **Regular Audits**: Continuously evaluate model fairness and effectiveness\n",
    "\n",
    "### Technical Improvements\n",
    "\n",
    "**Future Enhancements:**\n",
    "1. **Feature Engineering**: Create additional features from transaction patterns\n",
    "2. **Advanced Models**: Experiment with ensemble methods and deep learning\n",
    "3. **Real-time Learning**: Implement online learning for model updates\n",
    "4. **Explainability**: Add model interpretability features for compliance\n",
    "\n",
    "**Data Quality:**\n",
    "1. **Data Validation**: Implement checks for data quality and consistency\n",
    "2. **Feature Monitoring**: Track feature distributions for data drift\n",
    "3. **Feedback Loop**: Incorporate investigation results back into training data\n",
    "\n"
   ]
  }
 ],
 "metadata": {
  "kernelspec": {
   "display_name": "Python 3 (ipykernel)",
   "language": "python",
   "name": "python3"
  },
  "language_info": {
   "codemirror_mode": {
    "name": "ipython",
    "version": 3
   },
   "file_extension": ".py",
   "mimetype": "text/x-python",
   "name": "python",
   "nbconvert_exporter": "python",
   "pygments_lexer": "ipython3",
   "version": "3.11.9"
  }
 },
 "nbformat": 4,
 "nbformat_minor": 4
}
